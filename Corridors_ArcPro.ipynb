{
 "cells": [
  {
   "cell_type": "markdown",
   "id": "ad068a09",
   "metadata": {},
   "source": [
    "Created Tue Mar 29 13:27:47 2022 ; Last updated 02/14/2024\n",
    "\n",
    "@author: **Michelle M. Fink\n",
    "         Colorado Natural Heritage Program, Colorado State University**\n",
    "\n",
    "Purpose: Semi-automate Least-Cost Corridor analysis using ArcPro arcpy\n",
    "\n",
    "----\n",
    "License: GNU General Public License version 3.\n",
    " This script is free software: you can redistribute it and/or modify\n",
    " it under the terms of the GNU General Public License as published by\n",
    " the Free Software Foundation, either version 3 of the License, or\n",
    " (at your option) any later version.\n",
    "\n",
    " This program is distributed in the hope that it will be useful,\n",
    " but WITHOUT ANY WARRANTY; without even the implied warranty of\n",
    " MERCHANTABILITY or FITNESS FOR A PARTICULAR PURPOSE.  See the\n",
    " GNU General Public License for more details.\n",
    "\n",
    " You should have received a copy of the GNU General Public License\n",
    " along with this program.  If not, see https://www.gnu.org/licenses/"
   ]
  },
  {
   "cell_type": "markdown",
   "id": "7fba1c58",
   "metadata": {},
   "source": [
    "# Set up\n",
    "\n",
    "You either have to open and run this from within an ArcPro project, or use conda to clone the arcpro environment and run the notebook from there. This of course requires you to have Anaconda or Miniconda installed. \n",
    "\n",
    "If the latter, make a copy of C:\\Program Files\\ArcGIS\\Pro\\bin\\Python\\res\\environment.yaml and edit the `name` and `prefix` lines. Then create a new conda environment with the file (e.g., `conda env create -n arcpro --file myenviron.yaml` )\n"
   ]
  },
  {
   "cell_type": "code",
   "execution_count": null,
   "id": "2c2d0097",
   "metadata": {},
   "outputs": [],
   "source": [
    "import os\n",
    "import numpy as np\n",
    "from osgeo import osr, gdal\n",
    "import arcpy\n",
    "from arcpy import env\n",
    "from arcpy import da\n",
    "from arcpy import sa\n",
    "arcpy.CheckOutExtension(\"Spatial\")"
   ]
  },
  {
   "cell_type": "markdown",
   "id": "4f268467",
   "metadata": {},
   "source": [
    "## environment and variables"
   ]
  },
  {
   "cell_type": "code",
   "execution_count": null,
   "id": "0d3afedb",
   "metadata": {},
   "outputs": [],
   "source": [
    "#Set environments\n",
    "strWorkspace = r\"H:\\CPW_Statewide_Habt\"\n",
    "env.workspace = strWorkspace\n",
    "env.scratchWorkspace = r\"H:\\CPW_Statewide_Habt\\Default.gdb\"\n",
    "permRas = \"Elk_permeability02122024.tif\" #permeability raster\n",
    "env.snapRaster = permRas\n",
    "env.extent = permRas\n",
    "env.overwriteOutput = True\n",
    "env.cellSize = \"30\"\n",
    "env.compression = \"LZW\"\n",
    "env.pyramid = \"NONE\"\n",
    "env.rasterStatistics = \"STATISTICS 1 1\"\n",
    "env.parallelProcessingFactor = \"100%\"\n",
    "env.resamplingMethod = \"BILINEAR\"\n",
    "\n",
    "#Set parameters\n",
    "usestones = False\n",
    "costname = os.path.join(strWorkspace, \"Elk_cost_Run3Feb24.tif\") #output name\n",
    "elevRas = r\"D:\\GIS\\States\\CO\\NED\\filled_ned_30m.tif\" #elevation raster\n",
    "vf = \"VF.txt\" #Vertical factor for least-cost analysis\n",
    "spp = \"Elk\"\n",
    "maxdist = 60000"
   ]
  },
  {
   "cell_type": "markdown",
   "id": "9086bcdd",
   "metadata": {},
   "source": [
    "Cores are expected to be polygon shapefiles with attributes \"CoreID\", \"ToID\", \"Patch\" (`\"Patch\" == 'core'`)\n",
    "if `usestones = True` \"Stepping-stones\" need to be in the fromCores and/or toCores shapefile with attribute `\"Patch\" == 'step'`. Stepping-stones are treated as places of rest on the way to the destination, and as such are given 0 cost in the code below. Like so:\n",
    "\n",
    "| CoreID | ToID | Patch\n",
    "| ------ | ------ | ------ |\n",
    "| 606 | 609 | core |\n",
    "| 434 | 61 | core |\n",
    "| 105 | 0 | step |\n",
    "\n",
    "*However* for testing, or if you're not using Stepping-stones, it's a lot quicker to use a single point shapefile with attributes \"Pt_ID\", \"FromPt\", \"ToPt\".\n",
    "If it is a \"To\" point, only CoreID should have a non-zero value. Like so:\n",
    "\n",
    "| Pt_ID | FromPt | ToPt |\n",
    "| ----- | ----- | ----- |\n",
    "| 1 | 1 | 2 |\n",
    "| 2 | 0 | 0 |\n",
    "| 3 | 3 | 4 |\n",
    "| 4 | 0 | 0 |\n",
    "| 5 | 0 | 0 |\n",
    "\n",
    "Run the cell below for points (changing file names as required *of course*):"
   ]
  },
  {
   "cell_type": "code",
   "execution_count": null,
   "id": "a28784da",
   "metadata": {},
   "outputs": [],
   "source": [
    "# Single point shapefile\n",
    "fromTopts = \"Test_FromTo.shp\"\n",
    "ispoints = True"
   ]
  },
  {
   "cell_type": "markdown",
   "id": "e981c901",
   "metadata": {},
   "source": [
    "Run the cell below for polygons:"
   ]
  },
  {
   "cell_type": "code",
   "execution_count": null,
   "id": "49e05572",
   "metadata": {},
   "outputs": [],
   "source": [
    "fromCores = \"WinterFromPolys.shp\"\n",
    "toCores = \"NotWinter_Cores_and_steps.shp\"\n",
    "ispoints = False"
   ]
  },
  {
   "cell_type": "markdown",
   "id": "14ca0064",
   "metadata": {},
   "source": [
    "**A Note on maximum distance**  \n",
    "A maximum distance (`maxdist`) of 60 cost-distance km is initially used, based on seasonal movement estimates for elk[^1]. It can always be increased if necessary. \n",
    "\n",
    "**Vertical Factor**  \n",
    "Contents of the file, VF.txt:  \n",
    "\n",
    "|   .    |   .    |\n",
    "| ------ | ------ |\n",
    "| -90 | -1 |\n",
    "| -80 | 0.2 |\n",
    "| -70 | 0.3 |\n",
    "| -60 | 0.4 |\n",
    "| -50 | 0.5 |\n",
    "| -40 | 0.6 |\n",
    "| -30 | 0.7 |\n",
    "| -20 | 0.8 |\n",
    "| -10 | 0.9 |\n",
    "| 0 | 1 |\n",
    "| 10 | 1 |\n",
    "| 20 | 1 |\n",
    "| 30 | 1 |\n",
    "| 40 | 1 |\n",
    "| 50 | 1 |\n",
    "| 60 | 1 |\n",
    "| 70 | 1 |\n",
    "| 80 | 1 |\n",
    "| 90 | -1 |\n",
    "\n",
    "the values on the left are slope, in degrees (and direction). On the right are the cost-distance modifiers. The idea being that it takes very little effort to fall off a cliff XD, and downhill slopes in general are easier to travel. Uphill should already be taken into account via the permeability layer. (-1 = Inf = barrier)"
   ]
  },
  {
   "cell_type": "markdown",
   "id": "8d8a45e1",
   "metadata": {},
   "source": [
    "## Functions"
   ]
  },
  {
   "cell_type": "code",
   "execution_count": null,
   "id": "b8f1a4c8",
   "metadata": {},
   "outputs": [],
   "source": [
    "def raster2array(ras_name):\n",
    "    \"\"\"\n",
    "    Convert a geoTIFF to a 2D numpy array.\n",
    "    You could also do this with arcpy.RasterToNumPyArray\n",
    "    ras_name: string, path/name of raster\n",
    "    \"\"\"\n",
    "    ras_tif = gdal.Open(ras_name)\n",
    "    ras_band = ras_tif.GetRasterBand(1)\n",
    "    ras_data = ras_band.ReadAsArray()\n",
    "    ras_tif is None\n",
    "    ras_ary = ras_data\n",
    "    return ras_ary\n",
    "\n",
    "def perm_to_cost(perm, stones=None):\n",
    "    \"\"\"\n",
    "    Convert a 0.5-5 Permeability raster into a Cost raster\n",
    "    perm: string, path/name of permeability raster\n",
    "    stones: string, path/name of stepping-stone raster, if any\n",
    "    \"\"\"\n",
    "    if stones is None:\n",
    "        cost = (sa.Raster(perm) / 5) ** -3\n",
    "    else:\n",
    "        rvsdperm = sa.Con(sa.IsNull(stones), sa.Raster(perm), sa.Raster(perm) + 1)\n",
    "        cost = (rvsdperm / 5) ** -3\n",
    "    return cost\n",
    "\n",
    "def tryslice(rasCorridor):\n",
    "    \"\"\"\n",
    "    Equation to use to attempt to auto-delimit least-cost corridors\n",
    "    rasCorridor: string, path/name of generated cost accumulation raster\n",
    "    \"\"\"\n",
    "    ary = raster2array(rasCorridor)\n",
    "    mskary = np.ma.masked_less_equal(ary, 0)\n",
    "    arymin = np.ma.min(mskary)\n",
    "    cor1 = (1.0195 * arymin) + 114.44\n",
    "    cor0 = cor1 - 200\n",
    "    cor2 = cor1 + 200\n",
    "\n",
    "    print(\"Minimum: \" + str(arymin))\n",
    "    print([cor0, cor1, cor2])\n",
    "    return [cor0, cor1, cor2]\n",
    "\n",
    "def create_corridors(fromRas, toRas, species, maxdist, pth):\n",
    "    \"\"\"\n",
    "    Get unique pairs of Cores and generate corridors for each pair\n",
    "    fromRas: string, path/name of the originating Core areas raster\n",
    "    toRas: string, path/name of the destination Core areas raster\n",
    "    species: string, name to use as prefix of generated corridor files\n",
    "    maxdist: integer, maximum distance to use, in cost-meters\n",
    "    pth: string, path to save all this to\n",
    "    \"\"\"\n",
    "    corID = \"_to\".join([os.path.basename(fromRas).strip(species+\".tif\"), \n",
    "                         os.path.basename(toRas).strip(species+\".tif\")])\n",
    "    outName1 = species + \"_Accum\" + corID + \".tif\"\n",
    "    outName2 = species + \"_Corridors\" + corID + \".tif\"\n",
    "    if os.path.isfile(os.path.join(pth, outName1)):\n",
    "        accumRas = sa.Raster(os.path.join(pth, outName1))\n",
    "    else:\n",
    "        accumRas = sa.Raster(fromRas) + sa.Raster(toRas)\n",
    "        outRas1 = sa.Con(accumRas <= maxdist, accumRas, 0)\n",
    "        outRas1.save(os.path.join(pth, outName1))\n",
    "        \n",
    "    print(\"    \" + outName1 + \" saved\")\n",
    "    thresh = tryslice(os.path.join(pth, outName1))\n",
    "    try:\n",
    "        outRas2 = sa.Con((accumRas > 0) & (accumRas <= thresh[0]), 0,\n",
    "                         sa.Con((accumRas > thresh[0]) & (accumRas <= thresh[1]), 1,\n",
    "                                sa.Con((accumRas > thresh[1]) & (accumRas <= thresh[2]), 2)))\n",
    "        outRas2.save(os.path.join(pth, outName2))\n",
    "        print(\"    \" + outName2 + \" saved\")\n",
    "        \n",
    "    except TypeError:\n",
    "        print(\"Cannot create \" + outName2)\n",
    "        \n",
    "def fname(sp, fstr=None, tstr=None):\n",
    "    \"\"\"\n",
    "    sp: string, species name/ID\n",
    "    fstr: string, from core or point\n",
    "    tstr: string, to core or point\n",
    "    \n",
    "    Returns output filename\n",
    "    \"\"\"\n",
    "    if fstr is not None:\n",
    "        outname = \"_\".join([sp, \"PD\", fstr])\n",
    "        \n",
    "    if tstr is not None:\n",
    "        outname = \"_\".join([sp, \"PD\", tstr])\n",
    "        \n",
    "    return outname\n",
    "\n",
    "def pDistance(sp, fstr, tstr, lyr, fldname, ispoints, **kwargs):\n",
    "    msg = \"Something went wrong\"\n",
    "    fromRas = os.path.join(kwargs[\"path\"], fname(sp, fstr=fstr) + \"PD.tif\")\n",
    "    toRas = os.path.join(kwargs[\"path\"], fname(sp, tstr=tstr) + \"PD.tif\")\n",
    "        \n",
    "    if not os.path.isfile(fromRas):\n",
    "        if ispoints:\n",
    "            lyrname = lyr\n",
    "        else:\n",
    "            lyrname = \"from_\" + lyr\n",
    "            \n",
    "        frmCore = arcpy.SelectLayerByAttribute_management(lyrname, \"NEW_SELECTION\", fldname + \" = \" + fstr)\n",
    "        frmDist = sa.PathDistance(frmCore, kwargs[\"cost\"], kwargs[\"elev\"], \"#\", \"#\", kwargs[\"elev\"], \n",
    "                                  sa.VfTable(os.path.join(kwargs[\"path\"], kwargs[\"vf\"])))\n",
    "        frmDist.save(fromRas)\n",
    "        msg = \"Created \" + fromRas\n",
    "    else:\n",
    "        msg = fromRas + \" already exists, skipping\"\n",
    "            \n",
    "    if not os.path.isfile(toRas):\n",
    "        if ispoints:\n",
    "            lyrname = lyr\n",
    "        else:\n",
    "            lyrname = \"to_\" + lyr\n",
    "        toCore = arcpy.SelectLayerByAttribute_management(lyrname, \"NEW_SELECTION\", fldname + \" = \" + tstr)\n",
    "        toDist = sa.PathDistance(toCore, kwargs[\"cost\"], kwargs[\"elev\"], \"#\", \"#\", kwargs[\"elev\"],\n",
    "                                 sa.VfTable(os.path.join(kwargs[\"path\"], kwargs[\"vf\"])))\n",
    "        toDist.save(toRas)\n",
    "        msg = \"Created \" + toRas\n",
    "    else:\n",
    "        msg = toRas + \" already exists, skipping\"\n",
    "    \n",
    "    return [msg, fromRas, toRas]"
   ]
  },
  {
   "cell_type": "markdown",
   "id": "43432983",
   "metadata": {},
   "source": [
    "**A Note on the tryslice equation**  \n",
    "This equation is based on research by the author of the relationship between the minimum value present in the least-cost accumulation raster and the value threshold needed to create a truly least-cost corridor. No single set of parameters works in all situations, unfortunately, and frankly I need a better workflow here.  "
   ]
  },
  {
   "cell_type": "markdown",
   "id": "5ee32046",
   "metadata": {},
   "source": [
    "# Main\n",
    "\n",
    "Do note that I have zero error checking here, and there are probably quite a few opportunities for code efficiencies (I don't use python nearly as frequently as R, and I'm always writing code in a hurry)."
   ]
  },
  {
   "cell_type": "code",
   "execution_count": null,
   "id": "a2895386",
   "metadata": {},
   "outputs": [],
   "source": [
    "if ispoints:\n",
    "    arcpy.MakeFeatureLayer_management(fromTopts, \"allpts\")\n",
    "    stone = None\n",
    "else:\n",
    "    arcpy.MakeFeatureLayer_management(fromCores, \"from_core\")\n",
    "    arcpy.MakeFeatureLayer_management(toCores, \"to_core\")\n",
    "    if usestones:\n",
    "        if not os.path.isfile(os.path.join(strWorkspace, \"stoneRas.tif\")):\n",
    "            print(\"Make Stepping Stone raster\")\n",
    "            fromsteps = arcpy.SelectLayerByAttribute_management(\"from_core\", \"NEW_SELECTION\", \"Patch = 'step'\")\n",
    "            tosteps = arcpy.SelectLayerByAttribute_management(\"to_core\", \"NEW_SELECTION\", \"Patch = 'step'\")\n",
    "            arcpy.Merge_management([fromsteps, tosteps], \"tempstone\")\n",
    "            arcpy.conversion.FeatureToRaster(\"tempstone\", \"Patch\", \"stoneRas.tif\")\n",
    "        stone = \"stoneRas.tif\"\n",
    "    else:\n",
    "        stone = None\n",
    "\n",
    "if os.path.isfile(costname):\n",
    "    print(\"Found cost layer, using \" + costname)\n",
    "    costRas = costname\n",
    "else:\n",
    "    print(\"Converting Permeability to Cost\")\n",
    "    costRas = perm_to_cost(permRas, stones=stone)\n",
    "    costRas.save(costname)"
   ]
  },
  {
   "cell_type": "markdown",
   "id": "7259d3c4",
   "metadata": {},
   "source": [
    "**NOTE:** The next 2 cells take a lot of time and computer resources. A Path Distance raster must be created for *each* From and To point/core, and then an Accumulated Distance raster for each From-To pair. Each output will be as large (disk size wise) as the input permeability layer (~ 1.3 GB for statewide). On my machine, each Path Distance takes around 5 minutes to create @ 100% CPU."
   ]
  },
  {
   "cell_type": "code",
   "execution_count": null,
   "id": "ea3417a2",
   "metadata": {},
   "outputs": [],
   "source": [
    "#Iterate through core areas and get corridors for each\n",
    "print(\"On to all the Path Distances\")\n",
    "\n",
    "kwargs = {\"cost\":costRas, \"elev\":elevRas, \"path\":strWorkspace, \"vf\":vf}\n",
    "\n",
    "if ispoints:\n",
    "    arcpy.MakeTableView_management(fromTopts, \"pt_tbl\")\n",
    "    \n",
    "    with da.SearchCursor(\"pt_tbl\", [\"FromPt\", \"ToPt\"]) as curSrch:\n",
    "        for row in curSrch:\n",
    "            if row[0] == 0:\n",
    "                pass\n",
    "            else:\n",
    "                valstr = str(row[0])\n",
    "                constr = str(row[1])\n",
    "                theresult = pDistance(spp, valstr, constr, \n",
    "                                      \"allpts\", \"Pt_ID\", ispoints, **kwargs)\n",
    "                print(theresult[0])\n",
    "                create_corridors(theresult[1], theresult[2], spp, maxdist, strWorkspace)\n",
    "    \n",
    "else:\n",
    "    arcpy.MakeTableView_management(fromCores, \"from_tbl\")\n",
    "\n",
    "    with da.SearchCursor(\"from_tbl\", [\"CoreID\", \"ToID\"]) as curSrch:\n",
    "        for row in curSrch:\n",
    "            #make a Path Distance raster from each Core\n",
    "            valstr = str(row[0])\n",
    "            constr = str(row[1])\n",
    "            theresult = pDistance(spp, valstr, constr, \n",
    "                                  \"core\", \"CoreID\", ispoints, **kwargs)\n",
    "            print(theresult[0])\n",
    "            create_corridors(theresult[1], theresult[2], spp, maxdist, strWorkspace)\n"
   ]
  },
  {
   "cell_type": "markdown",
   "id": "de6f591f",
   "metadata": {},
   "source": [
    "If the corridor function **above** does not create a contiguous least-cost path From and To, you will need to use the saved Accumulated Distance raster to manually identify the least-cost corridor. Pay attention to the printed output of the minimum cost-distance value and attempted corridor cost-distance values and use those as starting points.\n",
    "\n",
    "This is the point where this process *really* needs help because boy is it tedious to manually identify the corridors. I have wanted to add a process based on least-cost *path* (see Arcpro help) to ensure a contiguous corridor, but have never had the time to work it out."
   ]
  },
  {
   "cell_type": "markdown",
   "id": "c9c6f54d",
   "metadata": {},
   "source": [
    "## Clean-up"
   ]
  },
  {
   "cell_type": "code",
   "execution_count": null,
   "id": "f16898e8",
   "metadata": {},
   "outputs": [],
   "source": [
    "del curSrch\n",
    "\n",
    "arcpy.CheckInExtension(\"Spatial\")"
   ]
  },
  {
   "cell_type": "markdown",
   "id": "1ad48fe6",
   "metadata": {},
   "source": [
    "[^1]: Armstrong, D.M., J.P. Fitzgerald, and C.A. Meaney. 2011. Mammals of Colorado, 2nd edition. Denver Museum of Nature and Science and University Press of Colorado, Boulder, CO."
   ]
  },
  {
   "cell_type": "code",
   "execution_count": null,
   "id": "e9888b24",
   "metadata": {},
   "outputs": [],
   "source": []
  }
 ],
 "metadata": {
  "kernelspec": {
   "display_name": "Python 3 (ipykernel)",
   "language": "python",
   "name": "python3"
  },
  "language_info": {
   "codemirror_mode": {
    "name": "ipython",
    "version": 3
   },
   "file_extension": ".py",
   "mimetype": "text/x-python",
   "name": "python",
   "nbconvert_exporter": "python",
   "pygments_lexer": "ipython3",
   "version": "3.9.18"
  },
  "varInspector": {
   "cols": {
    "lenName": 16,
    "lenType": 16,
    "lenVar": 40
   },
   "kernels_config": {
    "python": {
     "delete_cmd_postfix": "",
     "delete_cmd_prefix": "del ",
     "library": "var_list.py",
     "varRefreshCmd": "print(var_dic_list())"
    },
    "r": {
     "delete_cmd_postfix": ") ",
     "delete_cmd_prefix": "rm(",
     "library": "var_list.r",
     "varRefreshCmd": "cat(var_dic_list()) "
    }
   },
   "types_to_exclude": [
    "module",
    "function",
    "builtin_function_or_method",
    "instance",
    "_Feature"
   ],
   "window_display": false
  }
 },
 "nbformat": 4,
 "nbformat_minor": 5
}
